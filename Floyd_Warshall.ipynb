{
  "cells": [
    {
      "cell_type": "markdown",
      "metadata": {
        "id": "view-in-github",
        "colab_type": "text"
      },
      "source": [
        "<a href=\"https://colab.research.google.com/github/sdariza/ED2-202501/blob/main/Floyd_Warshall.ipynb\" target=\"_parent\"><img src=\"https://colab.research.google.com/assets/colab-badge.svg\" alt=\"Open In Colab\"/></a>"
      ]
    },
    {
      "cell_type": "code",
      "source": [
        "def printMatrix(M):\n",
        "  for row in M:\n",
        "    print(row)"
      ],
      "metadata": {
        "id": "lDVRbMpsbu1Q"
      },
      "execution_count": 1,
      "outputs": []
    },
    {
      "cell_type": "code",
      "source": [
        "Vg = ['A', 'B', 'C', 'D', 'E', 'F', 'G']"
      ],
      "metadata": {
        "id": "tZ-FsfL9YaTf"
      },
      "execution_count": 2,
      "outputs": []
    },
    {
      "cell_type": "code",
      "source": [
        "D = [[0,\t20,\t10,\t8,\tfloat('inf'),\tfloat('inf'),\tfloat('inf')],\n",
        "[20,\t0,\tfloat('inf'),\t30,\t10,\t10,\tfloat('inf')],\n",
        "[10,\tfloat('inf'),\t0,\t5,\tfloat('inf'),\tfloat('inf'),\t8],\n",
        "[8,\t30,\t5,\t0,\tfloat('inf'),\t40,\t20],\n",
        "[float('inf'),\t10,\tfloat('inf'),\tfloat('inf'),\t0,\t20,\tfloat('inf')],\n",
        "[float('inf'),\t10,\tfloat('inf'),\t40,\t20,\t0,\tfloat('inf')],\n",
        "[float('inf'),\tfloat('inf'),\t8,\t20,\tfloat('inf'),\tfloat('inf'),\t0]]"
      ],
      "metadata": {
        "id": "irrydIW5k2Al"
      },
      "execution_count": 3,
      "outputs": []
    },
    {
      "cell_type": "code",
      "source": [
        "printMatrix(D)"
      ],
      "metadata": {
        "id": "MdrwTCL-YbXG",
        "outputId": "57424062-6af3-4fb6-bf75-5e93f0434064",
        "colab": {
          "base_uri": "https://localhost:8080/"
        }
      },
      "execution_count": 4,
      "outputs": [
        {
          "output_type": "stream",
          "name": "stdout",
          "text": [
            "[0, 20, 10, 8, inf, inf, inf]\n",
            "[20, 0, inf, 30, 10, 10, inf]\n",
            "[10, inf, 0, 5, inf, inf, 8]\n",
            "[8, 30, 5, 0, inf, 40, 20]\n",
            "[inf, 10, inf, inf, 0, 20, inf]\n",
            "[inf, 10, inf, 40, 20, 0, inf]\n",
            "[inf, inf, 8, 20, inf, inf, 0]\n"
          ]
        }
      ]
    },
    {
      "cell_type": "code",
      "source": [
        "P = [[\"A\",\t\"B\", \"C\",\t\"D\", \"E\", \"F\", \"G\"],\n",
        "     [\"A\",\t\"B\", \"C\",\t\"D\", \"E\", \"F\", \"G\"],\n",
        "     [\"A\",\t\"B\", \"C\",\t\"D\", \"E\", \"F\", \"G\"],\n",
        "     [\"A\",\t\"B\", \"C\",\t\"D\", \"E\", \"F\", \"G\"],\n",
        "     [\"A\",\t\"B\", \"C\",\t\"D\", \"E\", \"F\", \"G\"],\n",
        "     [\"A\",\t\"B\", \"C\",\t\"D\", \"E\", \"F\", \"G\"],\n",
        "     [\"A\",\t\"B\", \"C\",\t\"D\", \"E\", \"F\", \"G\"]]"
      ],
      "metadata": {
        "id": "6A41B0e0loWR"
      },
      "execution_count": 5,
      "outputs": []
    },
    {
      "cell_type": "code",
      "source": [
        "printMatrix(P)"
      ],
      "metadata": {
        "id": "moHF3AzuZRLP",
        "outputId": "f8668d79-1374-42e7-ebb3-5748940c96cd",
        "colab": {
          "base_uri": "https://localhost:8080/"
        }
      },
      "execution_count": 6,
      "outputs": [
        {
          "output_type": "stream",
          "name": "stdout",
          "text": [
            "['A', 'B', 'C', 'D', 'E', 'F', 'G']\n",
            "['A', 'B', 'C', 'D', 'E', 'F', 'G']\n",
            "['A', 'B', 'C', 'D', 'E', 'F', 'G']\n",
            "['A', 'B', 'C', 'D', 'E', 'F', 'G']\n",
            "['A', 'B', 'C', 'D', 'E', 'F', 'G']\n",
            "['A', 'B', 'C', 'D', 'E', 'F', 'G']\n",
            "['A', 'B', 'C', 'D', 'E', 'F', 'G']\n"
          ]
        }
      ]
    },
    {
      "cell_type": "code",
      "source": [
        "for k, v_k in enumerate(Vg):\n",
        "  for i, v_i in enumerate(Vg):\n",
        "    for j, v_j in enumerate(Vg):\n",
        "      if D[i][k] + D[k][j] < D[i][j]:\n",
        "        D[i][j] = D[i][k] + D[k][j]\n",
        "        P[i][j] = P[i][k]"
      ],
      "metadata": {
        "id": "aLk08FhBZUT2"
      },
      "execution_count": null,
      "outputs": []
    },
    {
      "cell_type": "code",
      "source": [
        "printMatrix(P)"
      ],
      "metadata": {
        "id": "izxdokpLmW1E",
        "outputId": "c30cc3fb-b176-4a5e-9baa-80b6ace57811",
        "colab": {
          "base_uri": "https://localhost:8080/"
        }
      },
      "execution_count": null,
      "outputs": [
        {
          "output_type": "stream",
          "name": "stdout",
          "text": [
            "['A', 'B', 'C', 'D', 'B', 'B', 'C']\n",
            "['A', 'B', 'A', 'A', 'E', 'F', 'A']\n",
            "['A', 'A', 'C', 'D', 'A', 'A', 'G']\n",
            "['A', 'A', 'C', 'D', 'A', 'A', 'C']\n",
            "['B', 'B', 'B', 'B', 'E', 'F', 'B']\n",
            "['B', 'B', 'B', 'B', 'E', 'F', 'B']\n",
            "['C', 'C', 'C', 'C', 'C', 'C', 'G']\n"
          ]
        }
      ]
    },
    {
      "source": [
        "def reconstruir_camino(i, j, Vg, P):\n",
        "    camino = [Vg[i]]\n",
        "    while Vg[i] != Vg[j]:\n",
        "        next_node = P[i][j]\n",
        "        i = Vg.index(next_node)\n",
        "        camino.append(next_node)\n",
        "    return camino"
      ],
      "cell_type": "code",
      "metadata": {
        "id": "5JCBaSk6ib9-"
      },
      "execution_count": null,
      "outputs": []
    },
    {
      "cell_type": "code",
      "source": [
        "reconstruir_camino(Vg.index(\"C\"), Vg.index(\"F\"), Vg, P)"
      ],
      "metadata": {
        "id": "paxJ0kPkjioW",
        "outputId": "fb98edc4-af9b-4dc6-d9cf-b58e68b93c97",
        "colab": {
          "base_uri": "https://localhost:8080/"
        }
      },
      "execution_count": null,
      "outputs": [
        {
          "output_type": "execute_result",
          "data": {
            "text/plain": [
              "['C', 'A', 'B', 'F']"
            ]
          },
          "metadata": {},
          "execution_count": 105
        }
      ]
    }
  ],
  "metadata": {
    "colab": {
      "provenance": [],
      "include_colab_link": true
    },
    "kernelspec": {
      "display_name": "Python 3",
      "name": "python3"
    }
  },
  "nbformat": 4,
  "nbformat_minor": 0
}